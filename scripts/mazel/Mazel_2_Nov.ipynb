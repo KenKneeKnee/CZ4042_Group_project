{
 "cells": [
  {
   "cell_type": "code",
   "execution_count": 30,
   "metadata": {},
   "outputs": [],
   "source": [
    "import pandas as pd\n",
    "import numpy as np\n",
    "import matplotlib.pyplot as plt\n",
    "import seaborn as sb\n",
    "%matplotlib inline\n",
    "\n",
    "import sys\n",
    "import os\n",
    "import pytreebank\n",
    "import nltk\n",
    "import re\n",
    "\n",
    "\n",
    "from nltk.sentiment.vader import SentimentIntensityAnalyzer\n",
    "from sklearn.metrics import f1_score, accuracy_score\n",
    "from textblob import TextBlob\n",
    "from nltk.tokenize.toktok import ToktokTokenizer\n",
    "from nltk.corpus import stopwords\n",
    "import string\n",
    "\n",
    "from bs4 import BeautifulSoup\n",
    "from sklearn.model_selection import train_test_split\n",
    "\n",
    "import tensorflow as tf\n",
    "import tensorflow_hub as hub\n",
    "from tensorflow.python.keras.callbacks import EarlyStopping"
   ]
  },
  {
   "cell_type": "code",
   "execution_count": 2,
   "metadata": {},
   "outputs": [
    {
     "name": "stdout",
     "output_type": "stream",
     "text": [
      "                                              review sentiment\n",
      "0  One of the other reviewers has mentioned that ...  positive\n",
      "1  A wonderful little production. <br /><br />The...  positive\n",
      "2  I thought this was a wonderful way to spend ti...  positive\n",
      "3  Basically there's a family where a little boy ...  negative\n",
      "4  Petter Mattei's \"Love in the Time of Money\" is...  positive\n"
     ]
    }
   ],
   "source": [
    "csv_file_path = os.path.join('..', '..', 'data', 'IMDB Dataset.csv')\n",
    "\n",
    "if os.path.exists(csv_file_path):\n",
    "    df = pd.read_csv(csv_file_path)\n",
    "    print(df.head())\n",
    "else:           \n",
    "    print(\"CSV file not found.\")"
   ]
  },
  {
   "cell_type": "code",
   "execution_count": 3,
   "metadata": {},
   "outputs": [
    {
     "data": {
      "text/html": [
       "<div>\n",
       "<style scoped>\n",
       "    .dataframe tbody tr th:only-of-type {\n",
       "        vertical-align: middle;\n",
       "    }\n",
       "\n",
       "    .dataframe tbody tr th {\n",
       "        vertical-align: top;\n",
       "    }\n",
       "\n",
       "    .dataframe thead th {\n",
       "        text-align: right;\n",
       "    }\n",
       "</style>\n",
       "<table border=\"1\" class=\"dataframe\">\n",
       "  <thead>\n",
       "    <tr style=\"text-align: right;\">\n",
       "      <th></th>\n",
       "      <th>review</th>\n",
       "      <th>sentiment</th>\n",
       "    </tr>\n",
       "  </thead>\n",
       "  <tbody>\n",
       "    <tr>\n",
       "      <th>0</th>\n",
       "      <td>One of the other reviewers has mentioned that ...</td>\n",
       "      <td>positive</td>\n",
       "    </tr>\n",
       "    <tr>\n",
       "      <th>1</th>\n",
       "      <td>A wonderful little production. &lt;br /&gt;&lt;br /&gt;The...</td>\n",
       "      <td>positive</td>\n",
       "    </tr>\n",
       "    <tr>\n",
       "      <th>2</th>\n",
       "      <td>I thought this was a wonderful way to spend ti...</td>\n",
       "      <td>positive</td>\n",
       "    </tr>\n",
       "    <tr>\n",
       "      <th>3</th>\n",
       "      <td>Basically there's a family where a little boy ...</td>\n",
       "      <td>negative</td>\n",
       "    </tr>\n",
       "    <tr>\n",
       "      <th>4</th>\n",
       "      <td>Petter Mattei's \"Love in the Time of Money\" is...</td>\n",
       "      <td>positive</td>\n",
       "    </tr>\n",
       "    <tr>\n",
       "      <th>...</th>\n",
       "      <td>...</td>\n",
       "      <td>...</td>\n",
       "    </tr>\n",
       "    <tr>\n",
       "      <th>49995</th>\n",
       "      <td>I thought this movie did a down right good job...</td>\n",
       "      <td>positive</td>\n",
       "    </tr>\n",
       "    <tr>\n",
       "      <th>49996</th>\n",
       "      <td>Bad plot, bad dialogue, bad acting, idiotic di...</td>\n",
       "      <td>negative</td>\n",
       "    </tr>\n",
       "    <tr>\n",
       "      <th>49997</th>\n",
       "      <td>I am a Catholic taught in parochial elementary...</td>\n",
       "      <td>negative</td>\n",
       "    </tr>\n",
       "    <tr>\n",
       "      <th>49998</th>\n",
       "      <td>I'm going to have to disagree with the previou...</td>\n",
       "      <td>negative</td>\n",
       "    </tr>\n",
       "    <tr>\n",
       "      <th>49999</th>\n",
       "      <td>No one expects the Star Trek movies to be high...</td>\n",
       "      <td>negative</td>\n",
       "    </tr>\n",
       "  </tbody>\n",
       "</table>\n",
       "<p>50000 rows × 2 columns</p>\n",
       "</div>"
      ],
      "text/plain": [
       "                                                  review sentiment\n",
       "0      One of the other reviewers has mentioned that ...  positive\n",
       "1      A wonderful little production. <br /><br />The...  positive\n",
       "2      I thought this was a wonderful way to spend ti...  positive\n",
       "3      Basically there's a family where a little boy ...  negative\n",
       "4      Petter Mattei's \"Love in the Time of Money\" is...  positive\n",
       "...                                                  ...       ...\n",
       "49995  I thought this movie did a down right good job...  positive\n",
       "49996  Bad plot, bad dialogue, bad acting, idiotic di...  negative\n",
       "49997  I am a Catholic taught in parochial elementary...  negative\n",
       "49998  I'm going to have to disagree with the previou...  negative\n",
       "49999  No one expects the Star Trek movies to be high...  negative\n",
       "\n",
       "[50000 rows x 2 columns]"
      ]
     },
     "execution_count": 3,
     "metadata": {},
     "output_type": "execute_result"
    }
   ],
   "source": [
    "df"
   ]
  },
  {
   "cell_type": "code",
   "execution_count": 4,
   "metadata": {},
   "outputs": [],
   "source": [
    "sentiment_mapping = {'positive': 1, 'negative': 0}\n",
    "\n",
    "# Apply the mapping to the \"sentiment\" column\n",
    "df['sentiment_number'] = df['sentiment'].map(sentiment_mapping)\n"
   ]
  },
  {
   "cell_type": "code",
   "execution_count": 5,
   "metadata": {},
   "outputs": [
    {
     "data": {
      "text/html": [
       "<div>\n",
       "<style scoped>\n",
       "    .dataframe tbody tr th:only-of-type {\n",
       "        vertical-align: middle;\n",
       "    }\n",
       "\n",
       "    .dataframe tbody tr th {\n",
       "        vertical-align: top;\n",
       "    }\n",
       "\n",
       "    .dataframe thead th {\n",
       "        text-align: right;\n",
       "    }\n",
       "</style>\n",
       "<table border=\"1\" class=\"dataframe\">\n",
       "  <thead>\n",
       "    <tr style=\"text-align: right;\">\n",
       "      <th></th>\n",
       "      <th>review</th>\n",
       "      <th>sentiment</th>\n",
       "      <th>sentiment_number</th>\n",
       "    </tr>\n",
       "  </thead>\n",
       "  <tbody>\n",
       "    <tr>\n",
       "      <th>0</th>\n",
       "      <td>One of the other reviewers has mentioned that ...</td>\n",
       "      <td>positive</td>\n",
       "      <td>1</td>\n",
       "    </tr>\n",
       "    <tr>\n",
       "      <th>1</th>\n",
       "      <td>A wonderful little production. &lt;br /&gt;&lt;br /&gt;The...</td>\n",
       "      <td>positive</td>\n",
       "      <td>1</td>\n",
       "    </tr>\n",
       "    <tr>\n",
       "      <th>2</th>\n",
       "      <td>I thought this was a wonderful way to spend ti...</td>\n",
       "      <td>positive</td>\n",
       "      <td>1</td>\n",
       "    </tr>\n",
       "    <tr>\n",
       "      <th>3</th>\n",
       "      <td>Basically there's a family where a little boy ...</td>\n",
       "      <td>negative</td>\n",
       "      <td>0</td>\n",
       "    </tr>\n",
       "    <tr>\n",
       "      <th>4</th>\n",
       "      <td>Petter Mattei's \"Love in the Time of Money\" is...</td>\n",
       "      <td>positive</td>\n",
       "      <td>1</td>\n",
       "    </tr>\n",
       "    <tr>\n",
       "      <th>...</th>\n",
       "      <td>...</td>\n",
       "      <td>...</td>\n",
       "      <td>...</td>\n",
       "    </tr>\n",
       "    <tr>\n",
       "      <th>49995</th>\n",
       "      <td>I thought this movie did a down right good job...</td>\n",
       "      <td>positive</td>\n",
       "      <td>1</td>\n",
       "    </tr>\n",
       "    <tr>\n",
       "      <th>49996</th>\n",
       "      <td>Bad plot, bad dialogue, bad acting, idiotic di...</td>\n",
       "      <td>negative</td>\n",
       "      <td>0</td>\n",
       "    </tr>\n",
       "    <tr>\n",
       "      <th>49997</th>\n",
       "      <td>I am a Catholic taught in parochial elementary...</td>\n",
       "      <td>negative</td>\n",
       "      <td>0</td>\n",
       "    </tr>\n",
       "    <tr>\n",
       "      <th>49998</th>\n",
       "      <td>I'm going to have to disagree with the previou...</td>\n",
       "      <td>negative</td>\n",
       "      <td>0</td>\n",
       "    </tr>\n",
       "    <tr>\n",
       "      <th>49999</th>\n",
       "      <td>No one expects the Star Trek movies to be high...</td>\n",
       "      <td>negative</td>\n",
       "      <td>0</td>\n",
       "    </tr>\n",
       "  </tbody>\n",
       "</table>\n",
       "<p>50000 rows × 3 columns</p>\n",
       "</div>"
      ],
      "text/plain": [
       "                                                  review sentiment  \\\n",
       "0      One of the other reviewers has mentioned that ...  positive   \n",
       "1      A wonderful little production. <br /><br />The...  positive   \n",
       "2      I thought this was a wonderful way to spend ti...  positive   \n",
       "3      Basically there's a family where a little boy ...  negative   \n",
       "4      Petter Mattei's \"Love in the Time of Money\" is...  positive   \n",
       "...                                                  ...       ...   \n",
       "49995  I thought this movie did a down right good job...  positive   \n",
       "49996  Bad plot, bad dialogue, bad acting, idiotic di...  negative   \n",
       "49997  I am a Catholic taught in parochial elementary...  negative   \n",
       "49998  I'm going to have to disagree with the previou...  negative   \n",
       "49999  No one expects the Star Trek movies to be high...  negative   \n",
       "\n",
       "       sentiment_number  \n",
       "0                     1  \n",
       "1                     1  \n",
       "2                     1  \n",
       "3                     0  \n",
       "4                     1  \n",
       "...                 ...  \n",
       "49995                 1  \n",
       "49996                 0  \n",
       "49997                 0  \n",
       "49998                 0  \n",
       "49999                 0  \n",
       "\n",
       "[50000 rows x 3 columns]"
      ]
     },
     "execution_count": 5,
     "metadata": {},
     "output_type": "execute_result"
    }
   ],
   "source": [
    "df"
   ]
  },
  {
   "cell_type": "code",
   "execution_count": 8,
   "metadata": {},
   "outputs": [
    {
     "name": "stderr",
     "output_type": "stream",
     "text": [
      "/var/folders/0s/6y_9xhvn7tx64mnfljyvm01m0000gn/T/ipykernel_71988/1536429172.py:3: MarkupResemblesLocatorWarning: The input looks more like a filename than markup. You may want to open this file and pass the filehandle into Beautiful Soup.\n",
      "  soup = BeautifulSoup(text, \"html.parser\")\n"
     ]
    }
   ],
   "source": [
    "#Removing the html strips\n",
    "def strip_html(text):\n",
    "    soup = BeautifulSoup(text, \"html.parser\")\n",
    "    return soup.get_text()\n",
    "\n",
    "def preprocess_text(text):\n",
    "    text = text.lower()\n",
    "    return text\n",
    "\n",
    "def remove_punctuation(text):\n",
    "    text = text.translate(str.maketrans('', '', string.punctuation))\n",
    "    return text\n",
    "\n",
    "def remove_stopwords(text):\n",
    "    stop_words = set(stopwords.words(\"english\"))\n",
    "    filtered_text = [word for word in text.split() if word not in stop_words]\n",
    "    return \" \".join(filtered_text)\n",
    "df['review']=df['review'].apply(strip_html)\n",
    "df['review']=df['review'].apply(preprocess_text)\n",
    "df['review']=df['review'].apply(remove_punctuation)\n",
    "df['review']=df['review'].apply(remove_stopwords)"
   ]
  },
  {
   "cell_type": "code",
   "execution_count": 9,
   "metadata": {},
   "outputs": [
    {
     "name": "stdout",
     "output_type": "stream",
     "text": [
      "Train Data:\n",
      "Shape: (35000, 3)\n",
      "Test Data:\n",
      "Shape: (15000, 3)\n"
     ]
    }
   ],
   "source": [
    "train_df, test_df = train_test_split(df, test_size=0.3, random_state=42)\n",
    "\n",
    "# Print the shapes of the train and test DataFrames\n",
    "print(\"Train Data:\")\n",
    "print(\"Shape:\", train_df.shape)\n",
    "\n",
    "print(\"Test Data:\")\n",
    "print(\"Shape:\", test_df.shape)"
   ]
  },
  {
   "cell_type": "code",
   "execution_count": 10,
   "metadata": {},
   "outputs": [
    {
     "data": {
      "text/plain": [
       "'really liked summerslam due look arena curtains look overall interesting reason anyways could one best summerslams ever wwf didnt lex luger main event yokozuna time ok huge fat man vs strong man im glad times changed terrible main event like every match luger terrible matches card razor ramon vs ted dibiase steiner brothers vs heavenly bodies shawn michaels vs curt hening event shawn named big monster body guard diesel irs vs 123 kid bret hart first takes doink takes jerry lawler stuff harts lawler always interesting ludvig borga destroyed marty jannetty undertaker took giant gonzalez another terrible match smoking gunns tatanka took bam bam bigelow headshrinkers yokozuna defended world title lex luger match boring terrible ending however deserves 810'"
      ]
     },
     "execution_count": 10,
     "metadata": {},
     "output_type": "execute_result"
    }
   ],
   "source": [
    "vd=SentimentIntensityAnalyzer()\n",
    "test_df.iloc[0]['review']"
   ]
  },
  {
   "cell_type": "code",
   "execution_count": 11,
   "metadata": {},
   "outputs": [
    {
     "data": {
      "text/plain": [
       "{'neg': 0.119, 'neu': 0.683, 'pos': 0.199, 'compound': 0.902}"
      ]
     },
     "execution_count": 11,
     "metadata": {},
     "output_type": "execute_result"
    }
   ],
   "source": [
    "vd.polarity_scores(test_df.iloc[0]['review'])"
   ]
  },
  {
   "cell_type": "code",
   "execution_count": 12,
   "metadata": {},
   "outputs": [],
   "source": [
    "test_df['score']=test_df['review'].apply(lambda text:vd.polarity_scores(text))"
   ]
  },
  {
   "cell_type": "code",
   "execution_count": 13,
   "metadata": {},
   "outputs": [
    {
     "data": {
      "text/html": [
       "<div>\n",
       "<style scoped>\n",
       "    .dataframe tbody tr th:only-of-type {\n",
       "        vertical-align: middle;\n",
       "    }\n",
       "\n",
       "    .dataframe tbody tr th {\n",
       "        vertical-align: top;\n",
       "    }\n",
       "\n",
       "    .dataframe thead th {\n",
       "        text-align: right;\n",
       "    }\n",
       "</style>\n",
       "<table border=\"1\" class=\"dataframe\">\n",
       "  <thead>\n",
       "    <tr style=\"text-align: right;\">\n",
       "      <th></th>\n",
       "      <th>review</th>\n",
       "      <th>sentiment</th>\n",
       "      <th>sentiment_number</th>\n",
       "      <th>score</th>\n",
       "    </tr>\n",
       "  </thead>\n",
       "  <tbody>\n",
       "    <tr>\n",
       "      <th>33553</th>\n",
       "      <td>really liked summerslam due look arena curtain...</td>\n",
       "      <td>positive</td>\n",
       "      <td>1</td>\n",
       "      <td>{'neg': 0.119, 'neu': 0.683, 'pos': 0.199, 'co...</td>\n",
       "    </tr>\n",
       "    <tr>\n",
       "      <th>9427</th>\n",
       "      <td>many television shows appeal quite many differ...</td>\n",
       "      <td>positive</td>\n",
       "      <td>1</td>\n",
       "      <td>{'neg': 0.03, 'neu': 0.803, 'pos': 0.168, 'com...</td>\n",
       "    </tr>\n",
       "    <tr>\n",
       "      <th>199</th>\n",
       "      <td>film quickly gets major chase scene ever incre...</td>\n",
       "      <td>negative</td>\n",
       "      <td>0</td>\n",
       "      <td>{'neg': 0.131, 'neu': 0.699, 'pos': 0.17, 'com...</td>\n",
       "    </tr>\n",
       "    <tr>\n",
       "      <th>12447</th>\n",
       "      <td>jane austen would definitely approve onegwynet...</td>\n",
       "      <td>positive</td>\n",
       "      <td>1</td>\n",
       "      <td>{'neg': 0.123, 'neu': 0.556, 'pos': 0.322, 'co...</td>\n",
       "    </tr>\n",
       "    <tr>\n",
       "      <th>39489</th>\n",
       "      <td>expectations somewhat high went see movie thou...</td>\n",
       "      <td>negative</td>\n",
       "      <td>0</td>\n",
       "      <td>{'neg': 0.143, 'neu': 0.706, 'pos': 0.15, 'com...</td>\n",
       "    </tr>\n",
       "    <tr>\n",
       "      <th>...</th>\n",
       "      <td>...</td>\n",
       "      <td>...</td>\n",
       "      <td>...</td>\n",
       "      <td>...</td>\n",
       "    </tr>\n",
       "    <tr>\n",
       "      <th>15168</th>\n",
       "      <td>landscape battle opens escaping prisoners snow...</td>\n",
       "      <td>positive</td>\n",
       "      <td>1</td>\n",
       "      <td>{'neg': 0.196, 'neu': 0.58, 'pos': 0.224, 'com...</td>\n",
       "    </tr>\n",
       "    <tr>\n",
       "      <th>49241</th>\n",
       "      <td>jake speed 1986 amusing parody indiana jones a...</td>\n",
       "      <td>positive</td>\n",
       "      <td>1</td>\n",
       "      <td>{'neg': 0.152, 'neu': 0.587, 'pos': 0.262, 'co...</td>\n",
       "    </tr>\n",
       "    <tr>\n",
       "      <th>39317</th>\n",
       "      <td>plan b appearance quickly made unedited sloppy...</td>\n",
       "      <td>negative</td>\n",
       "      <td>0</td>\n",
       "      <td>{'neg': 0.191, 'neu': 0.671, 'pos': 0.138, 'co...</td>\n",
       "    </tr>\n",
       "    <tr>\n",
       "      <th>42191</th>\n",
       "      <td>one perks job things slow watch movie downstai...</td>\n",
       "      <td>positive</td>\n",
       "      <td>1</td>\n",
       "      <td>{'neg': 0.144, 'neu': 0.701, 'pos': 0.155, 'co...</td>\n",
       "    </tr>\n",
       "    <tr>\n",
       "      <th>15109</th>\n",
       "      <td>get past films title pecker great film perhaps...</td>\n",
       "      <td>positive</td>\n",
       "      <td>1</td>\n",
       "      <td>{'neg': 0.117, 'neu': 0.496, 'pos': 0.387, 'co...</td>\n",
       "    </tr>\n",
       "  </tbody>\n",
       "</table>\n",
       "<p>15000 rows × 4 columns</p>\n",
       "</div>"
      ],
      "text/plain": [
       "                                                  review sentiment  \\\n",
       "33553  really liked summerslam due look arena curtain...  positive   \n",
       "9427   many television shows appeal quite many differ...  positive   \n",
       "199    film quickly gets major chase scene ever incre...  negative   \n",
       "12447  jane austen would definitely approve onegwynet...  positive   \n",
       "39489  expectations somewhat high went see movie thou...  negative   \n",
       "...                                                  ...       ...   \n",
       "15168  landscape battle opens escaping prisoners snow...  positive   \n",
       "49241  jake speed 1986 amusing parody indiana jones a...  positive   \n",
       "39317  plan b appearance quickly made unedited sloppy...  negative   \n",
       "42191  one perks job things slow watch movie downstai...  positive   \n",
       "15109  get past films title pecker great film perhaps...  positive   \n",
       "\n",
       "       sentiment_number                                              score  \n",
       "33553                 1  {'neg': 0.119, 'neu': 0.683, 'pos': 0.199, 'co...  \n",
       "9427                  1  {'neg': 0.03, 'neu': 0.803, 'pos': 0.168, 'com...  \n",
       "199                   0  {'neg': 0.131, 'neu': 0.699, 'pos': 0.17, 'com...  \n",
       "12447                 1  {'neg': 0.123, 'neu': 0.556, 'pos': 0.322, 'co...  \n",
       "39489                 0  {'neg': 0.143, 'neu': 0.706, 'pos': 0.15, 'com...  \n",
       "...                 ...                                                ...  \n",
       "15168                 1  {'neg': 0.196, 'neu': 0.58, 'pos': 0.224, 'com...  \n",
       "49241                 1  {'neg': 0.152, 'neu': 0.587, 'pos': 0.262, 'co...  \n",
       "39317                 0  {'neg': 0.191, 'neu': 0.671, 'pos': 0.138, 'co...  \n",
       "42191                 1  {'neg': 0.144, 'neu': 0.701, 'pos': 0.155, 'co...  \n",
       "15109                 1  {'neg': 0.117, 'neu': 0.496, 'pos': 0.387, 'co...  \n",
       "\n",
       "[15000 rows x 4 columns]"
      ]
     },
     "execution_count": 13,
     "metadata": {},
     "output_type": "execute_result"
    }
   ],
   "source": [
    "test_df"
   ]
  },
  {
   "cell_type": "code",
   "execution_count": 14,
   "metadata": {},
   "outputs": [],
   "source": [
    "test_df['compound']=test_df['score'].apply(lambda d:d['compound'])\n",
    "test_df['compound_score']=test_df['compound'].apply(lambda score:1 if score>=0 else 0)"
   ]
  },
  {
   "cell_type": "code",
   "execution_count": 15,
   "metadata": {},
   "outputs": [
    {
     "data": {
      "text/html": [
       "<div>\n",
       "<style scoped>\n",
       "    .dataframe tbody tr th:only-of-type {\n",
       "        vertical-align: middle;\n",
       "    }\n",
       "\n",
       "    .dataframe tbody tr th {\n",
       "        vertical-align: top;\n",
       "    }\n",
       "\n",
       "    .dataframe thead th {\n",
       "        text-align: right;\n",
       "    }\n",
       "</style>\n",
       "<table border=\"1\" class=\"dataframe\">\n",
       "  <thead>\n",
       "    <tr style=\"text-align: right;\">\n",
       "      <th></th>\n",
       "      <th>review</th>\n",
       "      <th>sentiment</th>\n",
       "      <th>sentiment_number</th>\n",
       "      <th>score</th>\n",
       "      <th>compound</th>\n",
       "      <th>compound_score</th>\n",
       "    </tr>\n",
       "  </thead>\n",
       "  <tbody>\n",
       "    <tr>\n",
       "      <th>33553</th>\n",
       "      <td>really liked summerslam due look arena curtain...</td>\n",
       "      <td>positive</td>\n",
       "      <td>1</td>\n",
       "      <td>{'neg': 0.119, 'neu': 0.683, 'pos': 0.199, 'co...</td>\n",
       "      <td>0.9020</td>\n",
       "      <td>1</td>\n",
       "    </tr>\n",
       "    <tr>\n",
       "      <th>9427</th>\n",
       "      <td>many television shows appeal quite many differ...</td>\n",
       "      <td>positive</td>\n",
       "      <td>1</td>\n",
       "      <td>{'neg': 0.03, 'neu': 0.803, 'pos': 0.168, 'com...</td>\n",
       "      <td>0.9788</td>\n",
       "      <td>1</td>\n",
       "    </tr>\n",
       "    <tr>\n",
       "      <th>199</th>\n",
       "      <td>film quickly gets major chase scene ever incre...</td>\n",
       "      <td>negative</td>\n",
       "      <td>0</td>\n",
       "      <td>{'neg': 0.131, 'neu': 0.699, 'pos': 0.17, 'com...</td>\n",
       "      <td>0.2748</td>\n",
       "      <td>1</td>\n",
       "    </tr>\n",
       "    <tr>\n",
       "      <th>12447</th>\n",
       "      <td>jane austen would definitely approve onegwynet...</td>\n",
       "      <td>positive</td>\n",
       "      <td>1</td>\n",
       "      <td>{'neg': 0.123, 'neu': 0.556, 'pos': 0.322, 'co...</td>\n",
       "      <td>0.9630</td>\n",
       "      <td>1</td>\n",
       "    </tr>\n",
       "    <tr>\n",
       "      <th>39489</th>\n",
       "      <td>expectations somewhat high went see movie thou...</td>\n",
       "      <td>negative</td>\n",
       "      <td>0</td>\n",
       "      <td>{'neg': 0.143, 'neu': 0.706, 'pos': 0.15, 'com...</td>\n",
       "      <td>0.3431</td>\n",
       "      <td>1</td>\n",
       "    </tr>\n",
       "    <tr>\n",
       "      <th>...</th>\n",
       "      <td>...</td>\n",
       "      <td>...</td>\n",
       "      <td>...</td>\n",
       "      <td>...</td>\n",
       "      <td>...</td>\n",
       "      <td>...</td>\n",
       "    </tr>\n",
       "    <tr>\n",
       "      <th>15168</th>\n",
       "      <td>landscape battle opens escaping prisoners snow...</td>\n",
       "      <td>positive</td>\n",
       "      <td>1</td>\n",
       "      <td>{'neg': 0.196, 'neu': 0.58, 'pos': 0.224, 'com...</td>\n",
       "      <td>0.9501</td>\n",
       "      <td>1</td>\n",
       "    </tr>\n",
       "    <tr>\n",
       "      <th>49241</th>\n",
       "      <td>jake speed 1986 amusing parody indiana jones a...</td>\n",
       "      <td>positive</td>\n",
       "      <td>1</td>\n",
       "      <td>{'neg': 0.152, 'neu': 0.587, 'pos': 0.262, 'co...</td>\n",
       "      <td>0.8315</td>\n",
       "      <td>1</td>\n",
       "    </tr>\n",
       "    <tr>\n",
       "      <th>39317</th>\n",
       "      <td>plan b appearance quickly made unedited sloppy...</td>\n",
       "      <td>negative</td>\n",
       "      <td>0</td>\n",
       "      <td>{'neg': 0.191, 'neu': 0.671, 'pos': 0.138, 'co...</td>\n",
       "      <td>-0.9291</td>\n",
       "      <td>0</td>\n",
       "    </tr>\n",
       "    <tr>\n",
       "      <th>42191</th>\n",
       "      <td>one perks job things slow watch movie downstai...</td>\n",
       "      <td>positive</td>\n",
       "      <td>1</td>\n",
       "      <td>{'neg': 0.144, 'neu': 0.701, 'pos': 0.155, 'co...</td>\n",
       "      <td>0.2604</td>\n",
       "      <td>1</td>\n",
       "    </tr>\n",
       "    <tr>\n",
       "      <th>15109</th>\n",
       "      <td>get past films title pecker great film perhaps...</td>\n",
       "      <td>positive</td>\n",
       "      <td>1</td>\n",
       "      <td>{'neg': 0.117, 'neu': 0.496, 'pos': 0.387, 'co...</td>\n",
       "      <td>0.9612</td>\n",
       "      <td>1</td>\n",
       "    </tr>\n",
       "  </tbody>\n",
       "</table>\n",
       "<p>15000 rows × 6 columns</p>\n",
       "</div>"
      ],
      "text/plain": [
       "                                                  review sentiment  \\\n",
       "33553  really liked summerslam due look arena curtain...  positive   \n",
       "9427   many television shows appeal quite many differ...  positive   \n",
       "199    film quickly gets major chase scene ever incre...  negative   \n",
       "12447  jane austen would definitely approve onegwynet...  positive   \n",
       "39489  expectations somewhat high went see movie thou...  negative   \n",
       "...                                                  ...       ...   \n",
       "15168  landscape battle opens escaping prisoners snow...  positive   \n",
       "49241  jake speed 1986 amusing parody indiana jones a...  positive   \n",
       "39317  plan b appearance quickly made unedited sloppy...  negative   \n",
       "42191  one perks job things slow watch movie downstai...  positive   \n",
       "15109  get past films title pecker great film perhaps...  positive   \n",
       "\n",
       "       sentiment_number                                              score  \\\n",
       "33553                 1  {'neg': 0.119, 'neu': 0.683, 'pos': 0.199, 'co...   \n",
       "9427                  1  {'neg': 0.03, 'neu': 0.803, 'pos': 0.168, 'com...   \n",
       "199                   0  {'neg': 0.131, 'neu': 0.699, 'pos': 0.17, 'com...   \n",
       "12447                 1  {'neg': 0.123, 'neu': 0.556, 'pos': 0.322, 'co...   \n",
       "39489                 0  {'neg': 0.143, 'neu': 0.706, 'pos': 0.15, 'com...   \n",
       "...                 ...                                                ...   \n",
       "15168                 1  {'neg': 0.196, 'neu': 0.58, 'pos': 0.224, 'com...   \n",
       "49241                 1  {'neg': 0.152, 'neu': 0.587, 'pos': 0.262, 'co...   \n",
       "39317                 0  {'neg': 0.191, 'neu': 0.671, 'pos': 0.138, 'co...   \n",
       "42191                 1  {'neg': 0.144, 'neu': 0.701, 'pos': 0.155, 'co...   \n",
       "15109                 1  {'neg': 0.117, 'neu': 0.496, 'pos': 0.387, 'co...   \n",
       "\n",
       "       compound  compound_score  \n",
       "33553    0.9020               1  \n",
       "9427     0.9788               1  \n",
       "199      0.2748               1  \n",
       "12447    0.9630               1  \n",
       "39489    0.3431               1  \n",
       "...         ...             ...  \n",
       "15168    0.9501               1  \n",
       "49241    0.8315               1  \n",
       "39317   -0.9291               0  \n",
       "42191    0.2604               1  \n",
       "15109    0.9612               1  \n",
       "\n",
       "[15000 rows x 6 columns]"
      ]
     },
     "execution_count": 15,
     "metadata": {},
     "output_type": "execute_result"
    }
   ],
   "source": [
    "test_df"
   ]
  },
  {
   "cell_type": "code",
   "execution_count": 16,
   "metadata": {},
   "outputs": [],
   "source": [
    "from sklearn.metrics import accuracy_score,classification_report,confusion_matrix"
   ]
  },
  {
   "cell_type": "code",
   "execution_count": 17,
   "metadata": {},
   "outputs": [
    {
     "name": "stdout",
     "output_type": "stream",
     "text": [
      "              precision    recall  f1-score   support\n",
      "\n",
      "           0       0.78      0.49      0.60      7411\n",
      "           1       0.63      0.86      0.73      7589\n",
      "\n",
      "    accuracy                           0.68     15000\n",
      "   macro avg       0.71      0.68      0.67     15000\n",
      "weighted avg       0.71      0.68      0.67     15000\n",
      "\n"
     ]
    }
   ],
   "source": [
    "print(classification_report(test_df['sentiment_number'],test_df['compound_score']))"
   ]
  },
  {
   "cell_type": "code",
   "execution_count": 32,
   "metadata": {},
   "outputs": [],
   "source": [
    "def f1_acc(df,pred_column):\n",
    "    f1_macro  = f1_score(df['sentiment_number'],df[pred_column],average='macro')\n",
    "    acc = accuracy_score(df['sentiment_number'],df[pred_column])\n",
    "    print(\"F1 Score : {} \\n Accuracy : {}\".format(f1_macro,acc))"
   ]
  },
  {
   "cell_type": "code",
   "execution_count": 33,
   "metadata": {},
   "outputs": [
    {
     "name": "stdout",
     "output_type": "stream",
     "text": [
      "F1 Score : 0.6654370080291651 \n",
      " Accuracy : 0.6783333333333333\n"
     ]
    }
   ],
   "source": [
    "f1_acc(test_df,\"compound_score\")"
   ]
  },
  {
   "cell_type": "code",
   "execution_count": 18,
   "metadata": {},
   "outputs": [
    {
     "data": {
      "text/plain": [
       "{'neg': 0.119, 'neu': 0.683, 'pos': 0.199, 'compound': 0.902}"
      ]
     },
     "execution_count": 18,
     "metadata": {},
     "output_type": "execute_result"
    }
   ],
   "source": [
    "vd=SentimentIntensityAnalyzer()\n",
    "test_df.iloc[0]['review']\n",
    "vd.polarity_scores(test_df.iloc[0]['review'])"
   ]
  },
  {
   "cell_type": "code",
   "execution_count": 19,
   "metadata": {},
   "outputs": [
    {
     "name": "stdout",
     "output_type": "stream",
     "text": [
      "Polarity: -0.005416666666666692\n"
     ]
    }
   ],
   "source": [
    "blob = TextBlob(test_df.iloc[0]['review'])\n",
    "polarity = blob.sentiment.polarity\n",
    "\n",
    "print(\"Polarity:\", polarity)"
   ]
  },
  {
   "cell_type": "code",
   "execution_count": 20,
   "metadata": {},
   "outputs": [
    {
     "name": "stdout",
     "output_type": "stream",
     "text": [
      "                                                  review sentiment  \\\n",
      "33553  really liked summerslam due look arena curtain...  positive   \n",
      "9427   many television shows appeal quite many differ...  positive   \n",
      "199    film quickly gets major chase scene ever incre...  negative   \n",
      "12447  jane austen would definitely approve onegwynet...  positive   \n",
      "39489  expectations somewhat high went see movie thou...  negative   \n",
      "...                                                  ...       ...   \n",
      "15168  landscape battle opens escaping prisoners snow...  positive   \n",
      "49241  jake speed 1986 amusing parody indiana jones a...  positive   \n",
      "39317  plan b appearance quickly made unedited sloppy...  negative   \n",
      "42191  one perks job things slow watch movie downstai...  positive   \n",
      "15109  get past films title pecker great film perhaps...  positive   \n",
      "\n",
      "       sentiment_number                                              score  \\\n",
      "33553                 1  {'neg': 0.119, 'neu': 0.683, 'pos': 0.199, 'co...   \n",
      "9427                  1  {'neg': 0.03, 'neu': 0.803, 'pos': 0.168, 'com...   \n",
      "199                   0  {'neg': 0.131, 'neu': 0.699, 'pos': 0.17, 'com...   \n",
      "12447                 1  {'neg': 0.123, 'neu': 0.556, 'pos': 0.322, 'co...   \n",
      "39489                 0  {'neg': 0.143, 'neu': 0.706, 'pos': 0.15, 'com...   \n",
      "...                 ...                                                ...   \n",
      "15168                 1  {'neg': 0.196, 'neu': 0.58, 'pos': 0.224, 'com...   \n",
      "49241                 1  {'neg': 0.152, 'neu': 0.587, 'pos': 0.262, 'co...   \n",
      "39317                 0  {'neg': 0.191, 'neu': 0.671, 'pos': 0.138, 'co...   \n",
      "42191                 1  {'neg': 0.144, 'neu': 0.701, 'pos': 0.155, 'co...   \n",
      "15109                 1  {'neg': 0.117, 'neu': 0.496, 'pos': 0.387, 'co...   \n",
      "\n",
      "       compound  compound_score  tb_score  tb_label  \n",
      "33553    0.9020               1 -0.005417         0  \n",
      "9427     0.9788               1  0.177121         1  \n",
      "199      0.2748               1  0.174583         1  \n",
      "12447    0.9630               1  0.365385         1  \n",
      "39489    0.3431               1  0.017917         1  \n",
      "...         ...             ...       ...       ...  \n",
      "15168    0.9501               1  0.112626         1  \n",
      "49241    0.8315               1 -0.021212         0  \n",
      "39317   -0.9291               0 -0.044015         0  \n",
      "42191    0.2604               1  0.144038         1  \n",
      "15109    0.9612               1  0.216667         1  \n",
      "\n",
      "[15000 rows x 8 columns]\n"
     ]
    }
   ],
   "source": [
    "test_df['tb_score'] = test_df['review'].apply(lambda text: TextBlob(text).sentiment.polarity)\n",
    "\n",
    "def convert_to_compound_score(compound):\n",
    "    return 1 if compound >= 0 else 0\n",
    "\n",
    "test_df['tb_label'] = test_df['tb_score'].apply(convert_to_compound_score)\n",
    "\n",
    "print(test_df)"
   ]
  },
  {
   "cell_type": "code",
   "execution_count": 21,
   "metadata": {},
   "outputs": [
    {
     "name": "stdout",
     "output_type": "stream",
     "text": [
      "              precision    recall  f1-score   support\n",
      "\n",
      "           0       0.87      0.46      0.60      7411\n",
      "           1       0.64      0.93      0.76      7589\n",
      "\n",
      "    accuracy                           0.70     15000\n",
      "   macro avg       0.75      0.70      0.68     15000\n",
      "weighted avg       0.75      0.70      0.68     15000\n",
      "\n"
     ]
    }
   ],
   "source": [
    "print(classification_report(test_df['sentiment_number'],test_df['tb_label']))"
   ]
  },
  {
   "cell_type": "code",
   "execution_count": 34,
   "metadata": {},
   "outputs": [
    {
     "name": "stdout",
     "output_type": "stream",
     "text": [
      "F1 Score : 0.6796813732872438 \n",
      " Accuracy : 0.6988666666666666\n"
     ]
    }
   ],
   "source": [
    "f1_acc(test_df,\"tb_label\")"
   ]
  },
  {
   "cell_type": "code",
   "execution_count": 22,
   "metadata": {},
   "outputs": [],
   "source": [
    "embedding = \"https://tfhub.dev/google/tf2-preview/gnews-swivel-20dim/1\""
   ]
  },
  {
   "cell_type": "code",
   "execution_count": 23,
   "metadata": {},
   "outputs": [],
   "source": [
    "hub_layer = hub.KerasLayer(embedding, input_shape=[], \n",
    "dtype=tf.string, trainable=True)"
   ]
  },
  {
   "cell_type": "code",
   "execution_count": 24,
   "metadata": {},
   "outputs": [],
   "source": [
    "model = tf.keras.Sequential()\n",
    "model.add(hub_layer)\n",
    "model.add(tf.keras.layers.Dense(16, activation='relu'))\n",
    "model.add(tf.keras.layers.Dense(1))"
   ]
  },
  {
   "cell_type": "code",
   "execution_count": 25,
   "metadata": {},
   "outputs": [
    {
     "name": "stdout",
     "output_type": "stream",
     "text": [
      "Model: \"sequential\"\n",
      "_________________________________________________________________\n",
      " Layer (type)                Output Shape              Param #   \n",
      "=================================================================\n",
      " keras_layer (KerasLayer)    (None, 20)                400020    \n",
      "                                                                 \n",
      " dense (Dense)               (None, 16)                336       \n",
      "                                                                 \n",
      " dense_1 (Dense)             (None, 1)                 17        \n",
      "                                                                 \n",
      "=================================================================\n",
      "Total params: 400373 (1.53 MB)\n",
      "Trainable params: 400373 (1.53 MB)\n",
      "Non-trainable params: 0 (0.00 Byte)\n",
      "_________________________________________________________________\n"
     ]
    }
   ],
   "source": [
    "model.summary()"
   ]
  },
  {
   "cell_type": "code",
   "execution_count": 26,
   "metadata": {},
   "outputs": [],
   "source": [
    "model.compile(optimizer='adam', \n",
    "loss=tf.keras.losses.BinaryCrossentropy(from_logits=True), \n",
    "metrics=['accuracy'])"
   ]
  },
  {
   "cell_type": "code",
   "execution_count": 27,
   "metadata": {},
   "outputs": [],
   "source": [
    "train_dataset = tf.data.Dataset.from_tensor_slices((train_df['review'], train_df['sentiment_number']))\n",
    "test_dataset = tf.data.Dataset.from_tensor_slices((test_df['review'], test_df['sentiment_number']))\n"
   ]
  },
  {
   "cell_type": "code",
   "execution_count": 28,
   "metadata": {},
   "outputs": [],
   "source": [
    "early_stopping = EarlyStopping(monitor='val_loss', patience=5, restore_best_weights=True)"
   ]
  },
  {
   "cell_type": "code",
   "execution_count": 29,
   "metadata": {},
   "outputs": [
    {
     "name": "stdout",
     "output_type": "stream",
     "text": [
      "Epoch 1/100\n"
     ]
    },
    {
     "name": "stdout",
     "output_type": "stream",
     "text": [
      "69/69 [==============================] - 1s 12ms/step - loss: 0.6384 - accuracy: 0.6238 - val_loss: 0.5783 - val_accuracy: 0.6704\n",
      "Epoch 2/100\n",
      "69/69 [==============================] - 1s 11ms/step - loss: 0.5449 - accuracy: 0.7047 - val_loss: 0.5101 - val_accuracy: 0.7394\n",
      "Epoch 3/100\n",
      "69/69 [==============================] - 1s 11ms/step - loss: 0.4684 - accuracy: 0.7609 - val_loss: 0.4359 - val_accuracy: 0.7897\n",
      "Epoch 4/100\n",
      "69/69 [==============================] - 1s 11ms/step - loss: 0.3920 - accuracy: 0.8149 - val_loss: 0.3761 - val_accuracy: 0.8286\n",
      "Epoch 5/100\n",
      "69/69 [==============================] - 1s 11ms/step - loss: 0.3328 - accuracy: 0.8512 - val_loss: 0.3343 - val_accuracy: 0.8453\n",
      "Epoch 6/100\n",
      "69/69 [==============================] - 1s 11ms/step - loss: 0.2912 - accuracy: 0.8738 - val_loss: 0.3109 - val_accuracy: 0.8575\n",
      "Epoch 7/100\n",
      "69/69 [==============================] - 1s 11ms/step - loss: 0.2631 - accuracy: 0.8876 - val_loss: 0.2967 - val_accuracy: 0.8667\n",
      "Epoch 8/100\n",
      "69/69 [==============================] - 1s 11ms/step - loss: 0.2432 - accuracy: 0.8971 - val_loss: 0.2893 - val_accuracy: 0.8745\n",
      "Epoch 9/100\n",
      "69/69 [==============================] - 1s 11ms/step - loss: 0.2285 - accuracy: 0.9046 - val_loss: 0.2853 - val_accuracy: 0.8758\n",
      "Epoch 10/100\n",
      "69/69 [==============================] - 1s 11ms/step - loss: 0.2156 - accuracy: 0.9096 - val_loss: 0.2844 - val_accuracy: 0.8776\n",
      "Epoch 11/100\n",
      "69/69 [==============================] - 1s 11ms/step - loss: 0.2048 - accuracy: 0.9152 - val_loss: 0.2847 - val_accuracy: 0.8764\n",
      "Epoch 12/100\n",
      "69/69 [==============================] - 1s 11ms/step - loss: 0.1960 - accuracy: 0.9197 - val_loss: 0.2870 - val_accuracy: 0.8731\n",
      "Epoch 13/100\n",
      "69/69 [==============================] - 1s 11ms/step - loss: 0.1877 - accuracy: 0.9236 - val_loss: 0.2892 - val_accuracy: 0.8733\n",
      "Epoch 14/100\n",
      "69/69 [==============================] - 1s 11ms/step - loss: 0.1805 - accuracy: 0.9270 - val_loss: 0.2939 - val_accuracy: 0.8705\n",
      "Epoch 15/100\n",
      "69/69 [==============================] - 1s 11ms/step - loss: 0.1744 - accuracy: 0.9305 - val_loss: 0.2966 - val_accuracy: 0.8767\n"
     ]
    }
   ],
   "source": [
    "history = model.fit(\n",
    "\n",
    "    train_dataset.shuffle(10000).batch(512),\n",
    "    epochs=100,\n",
    "    validation_data=test_dataset.batch(512),\n",
    "    verbose=1,\n",
    "    callbacks=[early_stopping]\n",
    ")"
   ]
  },
  {
   "cell_type": "code",
   "execution_count": null,
   "metadata": {},
   "outputs": [],
   "source": []
  }
 ],
 "metadata": {
  "kernelspec": {
   "display_name": "env",
   "language": "python",
   "name": "python3"
  },
  "language_info": {
   "codemirror_mode": {
    "name": "ipython",
    "version": 3
   },
   "file_extension": ".py",
   "mimetype": "text/x-python",
   "name": "python",
   "nbconvert_exporter": "python",
   "pygments_lexer": "ipython3",
   "version": "3.11.6"
  }
 },
 "nbformat": 4,
 "nbformat_minor": 2
}
