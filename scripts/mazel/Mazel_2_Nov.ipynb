{
 "cells": [
  {
   "cell_type": "code",
   "execution_count": 1,
   "metadata": {},
   "outputs": [],
   "source": [
    "import pandas as pd\n",
    "import numpy as np\n",
    "import matplotlib.pyplot as plt\n",
    "import seaborn as sb\n",
    "%matplotlib inline\n",
    "\n",
    "import sys\n",
    "import os\n",
    "import pytreebank\n",
    "import nltk\n",
    "import re\n",
    "\n",
    "\n",
    "from nltk.sentiment.vader import SentimentIntensityAnalyzer\n",
    "from textblob import TextBlob\n",
    "from nltk.tokenize.toktok import ToktokTokenizer\n",
    "from nltk.corpus import stopwords\n",
    "\n",
    "from bs4 import BeautifulSoup\n",
    "from sklearn.model_selection import train_test_split\n",
    "\n",
    "import tensorflow as tf\n",
    "import tensorflow_hub as hub\n",
    "from tensorflow.python.keras.callbacks import EarlyStopping"
   ]
  },
  {
   "cell_type": "code",
   "execution_count": 2,
   "metadata": {},
   "outputs": [
    {
     "name": "stdout",
     "output_type": "stream",
     "text": [
      "                                              review sentiment\n",
      "0  One of the other reviewers has mentioned that ...  positive\n",
      "1  A wonderful little production. <br /><br />The...  positive\n",
      "2  I thought this was a wonderful way to spend ti...  positive\n",
      "3  Basically there's a family where a little boy ...  negative\n",
      "4  Petter Mattei's \"Love in the Time of Money\" is...  positive\n"
     ]
    }
   ],
   "source": [
    "csv_file_path = os.path.join('..', '..', 'data', 'IMDB Dataset.csv')\n",
    "\n",
    "if os.path.exists(csv_file_path):\n",
    "    df = pd.read_csv(csv_file_path)\n",
    "    print(df.head())\n",
    "else:\n",
    "    print(\"CSV file not found.\")"
   ]
  },
  {
   "cell_type": "code",
   "execution_count": 12,
   "metadata": {},
   "outputs": [
    {
     "data": {
      "text/html": [
       "<div>\n",
       "<style scoped>\n",
       "    .dataframe tbody tr th:only-of-type {\n",
       "        vertical-align: middle;\n",
       "    }\n",
       "\n",
       "    .dataframe tbody tr th {\n",
       "        vertical-align: top;\n",
       "    }\n",
       "\n",
       "    .dataframe thead th {\n",
       "        text-align: right;\n",
       "    }\n",
       "</style>\n",
       "<table border=\"1\" class=\"dataframe\">\n",
       "  <thead>\n",
       "    <tr style=\"text-align: right;\">\n",
       "      <th></th>\n",
       "      <th>review</th>\n",
       "      <th>sentiment</th>\n",
       "    </tr>\n",
       "  </thead>\n",
       "  <tbody>\n",
       "    <tr>\n",
       "      <th>0</th>\n",
       "      <td>One of the other reviewers has mentioned that ...</td>\n",
       "      <td>positive</td>\n",
       "    </tr>\n",
       "    <tr>\n",
       "      <th>1</th>\n",
       "      <td>A wonderful little production. &lt;br /&gt;&lt;br /&gt;The...</td>\n",
       "      <td>positive</td>\n",
       "    </tr>\n",
       "    <tr>\n",
       "      <th>2</th>\n",
       "      <td>I thought this was a wonderful way to spend ti...</td>\n",
       "      <td>positive</td>\n",
       "    </tr>\n",
       "    <tr>\n",
       "      <th>3</th>\n",
       "      <td>Basically there's a family where a little boy ...</td>\n",
       "      <td>negative</td>\n",
       "    </tr>\n",
       "    <tr>\n",
       "      <th>4</th>\n",
       "      <td>Petter Mattei's \"Love in the Time of Money\" is...</td>\n",
       "      <td>positive</td>\n",
       "    </tr>\n",
       "    <tr>\n",
       "      <th>...</th>\n",
       "      <td>...</td>\n",
       "      <td>...</td>\n",
       "    </tr>\n",
       "    <tr>\n",
       "      <th>49995</th>\n",
       "      <td>I thought this movie did a down right good job...</td>\n",
       "      <td>positive</td>\n",
       "    </tr>\n",
       "    <tr>\n",
       "      <th>49996</th>\n",
       "      <td>Bad plot, bad dialogue, bad acting, idiotic di...</td>\n",
       "      <td>negative</td>\n",
       "    </tr>\n",
       "    <tr>\n",
       "      <th>49997</th>\n",
       "      <td>I am a Catholic taught in parochial elementary...</td>\n",
       "      <td>negative</td>\n",
       "    </tr>\n",
       "    <tr>\n",
       "      <th>49998</th>\n",
       "      <td>I'm going to have to disagree with the previou...</td>\n",
       "      <td>negative</td>\n",
       "    </tr>\n",
       "    <tr>\n",
       "      <th>49999</th>\n",
       "      <td>No one expects the Star Trek movies to be high...</td>\n",
       "      <td>negative</td>\n",
       "    </tr>\n",
       "  </tbody>\n",
       "</table>\n",
       "<p>50000 rows × 2 columns</p>\n",
       "</div>"
      ],
      "text/plain": [
       "                                                  review sentiment\n",
       "0      One of the other reviewers has mentioned that ...  positive\n",
       "1      A wonderful little production. <br /><br />The...  positive\n",
       "2      I thought this was a wonderful way to spend ti...  positive\n",
       "3      Basically there's a family where a little boy ...  negative\n",
       "4      Petter Mattei's \"Love in the Time of Money\" is...  positive\n",
       "...                                                  ...       ...\n",
       "49995  I thought this movie did a down right good job...  positive\n",
       "49996  Bad plot, bad dialogue, bad acting, idiotic di...  negative\n",
       "49997  I am a Catholic taught in parochial elementary...  negative\n",
       "49998  I'm going to have to disagree with the previou...  negative\n",
       "49999  No one expects the Star Trek movies to be high...  negative\n",
       "\n",
       "[50000 rows x 2 columns]"
      ]
     },
     "execution_count": 12,
     "metadata": {},
     "output_type": "execute_result"
    }
   ],
   "source": [
    "df"
   ]
  },
  {
   "cell_type": "code",
   "execution_count": 3,
   "metadata": {},
   "outputs": [],
   "source": [
    "sentiment_mapping = {'positive': 1, 'negative': 0}\n",
    "\n",
    "# Apply the mapping to the \"sentiment\" column\n",
    "df['sentiment_number'] = df['sentiment'].map(sentiment_mapping)\n"
   ]
  },
  {
   "cell_type": "code",
   "execution_count": 51,
   "metadata": {},
   "outputs": [
    {
     "data": {
      "text/html": [
       "<div>\n",
       "<style scoped>\n",
       "    .dataframe tbody tr th:only-of-type {\n",
       "        vertical-align: middle;\n",
       "    }\n",
       "\n",
       "    .dataframe tbody tr th {\n",
       "        vertical-align: top;\n",
       "    }\n",
       "\n",
       "    .dataframe thead th {\n",
       "        text-align: right;\n",
       "    }\n",
       "</style>\n",
       "<table border=\"1\" class=\"dataframe\">\n",
       "  <thead>\n",
       "    <tr style=\"text-align: right;\">\n",
       "      <th></th>\n",
       "      <th>review</th>\n",
       "      <th>sentiment</th>\n",
       "      <th>sentiment_number</th>\n",
       "    </tr>\n",
       "  </thead>\n",
       "  <tbody>\n",
       "    <tr>\n",
       "      <th>0</th>\n",
       "      <td>One of the other reviewers has mentioned that ...</td>\n",
       "      <td>positive</td>\n",
       "      <td>1</td>\n",
       "    </tr>\n",
       "    <tr>\n",
       "      <th>1</th>\n",
       "      <td>A wonderful little production. &lt;br /&gt;&lt;br /&gt;The...</td>\n",
       "      <td>positive</td>\n",
       "      <td>1</td>\n",
       "    </tr>\n",
       "    <tr>\n",
       "      <th>2</th>\n",
       "      <td>I thought this was a wonderful way to spend ti...</td>\n",
       "      <td>positive</td>\n",
       "      <td>1</td>\n",
       "    </tr>\n",
       "    <tr>\n",
       "      <th>3</th>\n",
       "      <td>Basically there's a family where a little boy ...</td>\n",
       "      <td>negative</td>\n",
       "      <td>0</td>\n",
       "    </tr>\n",
       "    <tr>\n",
       "      <th>4</th>\n",
       "      <td>Petter Mattei's \"Love in the Time of Money\" is...</td>\n",
       "      <td>positive</td>\n",
       "      <td>1</td>\n",
       "    </tr>\n",
       "    <tr>\n",
       "      <th>...</th>\n",
       "      <td>...</td>\n",
       "      <td>...</td>\n",
       "      <td>...</td>\n",
       "    </tr>\n",
       "    <tr>\n",
       "      <th>49995</th>\n",
       "      <td>I thought this movie did a down right good job...</td>\n",
       "      <td>positive</td>\n",
       "      <td>1</td>\n",
       "    </tr>\n",
       "    <tr>\n",
       "      <th>49996</th>\n",
       "      <td>Bad plot, bad dialogue, bad acting, idiotic di...</td>\n",
       "      <td>negative</td>\n",
       "      <td>0</td>\n",
       "    </tr>\n",
       "    <tr>\n",
       "      <th>49997</th>\n",
       "      <td>I am a Catholic taught in parochial elementary...</td>\n",
       "      <td>negative</td>\n",
       "      <td>0</td>\n",
       "    </tr>\n",
       "    <tr>\n",
       "      <th>49998</th>\n",
       "      <td>I'm going to have to disagree with the previou...</td>\n",
       "      <td>negative</td>\n",
       "      <td>0</td>\n",
       "    </tr>\n",
       "    <tr>\n",
       "      <th>49999</th>\n",
       "      <td>No one expects the Star Trek movies to be high...</td>\n",
       "      <td>negative</td>\n",
       "      <td>0</td>\n",
       "    </tr>\n",
       "  </tbody>\n",
       "</table>\n",
       "<p>50000 rows × 3 columns</p>\n",
       "</div>"
      ],
      "text/plain": [
       "                                                  review sentiment  \\\n",
       "0      One of the other reviewers has mentioned that ...  positive   \n",
       "1      A wonderful little production. <br /><br />The...  positive   \n",
       "2      I thought this was a wonderful way to spend ti...  positive   \n",
       "3      Basically there's a family where a little boy ...  negative   \n",
       "4      Petter Mattei's \"Love in the Time of Money\" is...  positive   \n",
       "...                                                  ...       ...   \n",
       "49995  I thought this movie did a down right good job...  positive   \n",
       "49996  Bad plot, bad dialogue, bad acting, idiotic di...  negative   \n",
       "49997  I am a Catholic taught in parochial elementary...  negative   \n",
       "49998  I'm going to have to disagree with the previou...  negative   \n",
       "49999  No one expects the Star Trek movies to be high...  negative   \n",
       "\n",
       "       sentiment_number  \n",
       "0                     1  \n",
       "1                     1  \n",
       "2                     1  \n",
       "3                     0  \n",
       "4                     1  \n",
       "...                 ...  \n",
       "49995                 1  \n",
       "49996                 0  \n",
       "49997                 0  \n",
       "49998                 0  \n",
       "49999                 0  \n",
       "\n",
       "[50000 rows x 3 columns]"
      ]
     },
     "execution_count": 51,
     "metadata": {},
     "output_type": "execute_result"
    }
   ],
   "source": [
    "df"
   ]
  },
  {
   "cell_type": "code",
   "execution_count": 4,
   "metadata": {},
   "outputs": [
    {
     "name": "stderr",
     "output_type": "stream",
     "text": [
      "/var/folders/0s/6y_9xhvn7tx64mnfljyvm01m0000gn/T/ipykernel_65411/867204037.py:3: MarkupResemblesLocatorWarning: The input looks more like a filename than markup. You may want to open this file and pass the filehandle into Beautiful Soup.\n",
      "  soup = BeautifulSoup(text, \"html.parser\")\n"
     ]
    }
   ],
   "source": [
    "#Removing the html strips\n",
    "def strip_html(text):\n",
    "    soup = BeautifulSoup(text, \"html.parser\")\n",
    "    return soup.get_text()\n",
    "\n",
    "df['review']=df['review'].apply(strip_html)"
   ]
  },
  {
   "cell_type": "code",
   "execution_count": 5,
   "metadata": {},
   "outputs": [
    {
     "name": "stdout",
     "output_type": "stream",
     "text": [
      "Train Data:\n",
      "Shape: (35000, 3)\n",
      "Test Data:\n",
      "Shape: (15000, 3)\n"
     ]
    }
   ],
   "source": [
    "train_df, test_df = train_test_split(df, test_size=0.3, random_state=42)\n",
    "\n",
    "# Print the shapes of the train and test DataFrames\n",
    "print(\"Train Data:\")\n",
    "print(\"Shape:\", train_df.shape)\n",
    "\n",
    "print(\"Test Data:\")\n",
    "print(\"Shape:\", test_df.shape)"
   ]
  },
  {
   "cell_type": "code",
   "execution_count": 58,
   "metadata": {},
   "outputs": [
    {
     "data": {
      "text/plain": [
       "\"I really liked this Summerslam due to the look of the arena, the curtains and just the look overall was interesting to me for some reason. Anyways, this could have been one of the best Summerslam's ever if the WWF didn't have Lex Luger in the main event against Yokozuna, now for it's time it was ok to have a huge fat man vs a strong man but I'm glad times have changed. It was a terrible main event just like every match Luger is in is terrible. Other matches on the card were Razor Ramon vs Ted Dibiase, Steiner Brothers vs Heavenly Bodies, Shawn Michaels vs Curt Hening, this was the event where Shawn named his big monster of a body guard Diesel, IRS vs 1-2-3 Kid, Bret Hart first takes on Doink then takes on Jerry Lawler and stuff with the Harts and Lawler was always very interesting, then Ludvig Borga destroyed Marty Jannetty, Undertaker took on Giant Gonzalez in another terrible match, The Smoking Gunns and Tatanka took on Bam Bam Bigelow and the Headshrinkers, and Yokozuna defended the world title against Lex Luger this match was boring and it has a terrible ending. However it deserves 8/10\""
      ]
     },
     "execution_count": 58,
     "metadata": {},
     "output_type": "execute_result"
    }
   ],
   "source": [
    "vd=SentimentIntensityAnalyzer()\n",
    "test_df.iloc[0]['review']"
   ]
  },
  {
   "cell_type": "code",
   "execution_count": 59,
   "metadata": {},
   "outputs": [
    {
     "data": {
      "text/plain": [
       "{'neg': 0.103, 'neu': 0.775, 'pos': 0.122, 'compound': 0.0891}"
      ]
     },
     "execution_count": 59,
     "metadata": {},
     "output_type": "execute_result"
    }
   ],
   "source": [
    "vd.polarity_scores(test_df.iloc[0]['review'])"
   ]
  },
  {
   "cell_type": "code",
   "execution_count": 60,
   "metadata": {},
   "outputs": [],
   "source": [
    "test_df['score']=test_df['review'].apply(lambda text:vd.polarity_scores(text))"
   ]
  },
  {
   "cell_type": "code",
   "execution_count": 61,
   "metadata": {},
   "outputs": [
    {
     "data": {
      "text/html": [
       "<div>\n",
       "<style scoped>\n",
       "    .dataframe tbody tr th:only-of-type {\n",
       "        vertical-align: middle;\n",
       "    }\n",
       "\n",
       "    .dataframe tbody tr th {\n",
       "        vertical-align: top;\n",
       "    }\n",
       "\n",
       "    .dataframe thead th {\n",
       "        text-align: right;\n",
       "    }\n",
       "</style>\n",
       "<table border=\"1\" class=\"dataframe\">\n",
       "  <thead>\n",
       "    <tr style=\"text-align: right;\">\n",
       "      <th></th>\n",
       "      <th>review</th>\n",
       "      <th>sentiment</th>\n",
       "      <th>sentiment_number</th>\n",
       "      <th>score</th>\n",
       "    </tr>\n",
       "  </thead>\n",
       "  <tbody>\n",
       "    <tr>\n",
       "      <th>33553</th>\n",
       "      <td>I really liked this Summerslam due to the look...</td>\n",
       "      <td>positive</td>\n",
       "      <td>1</td>\n",
       "      <td>{'neg': 0.103, 'neu': 0.775, 'pos': 0.122, 'co...</td>\n",
       "    </tr>\n",
       "    <tr>\n",
       "      <th>9427</th>\n",
       "      <td>Not many television shows appeal to quite as m...</td>\n",
       "      <td>positive</td>\n",
       "      <td>1</td>\n",
       "      <td>{'neg': 0.023, 'neu': 0.865, 'pos': 0.112, 'co...</td>\n",
       "    </tr>\n",
       "    <tr>\n",
       "      <th>199</th>\n",
       "      <td>The film quickly gets to a major chase scene w...</td>\n",
       "      <td>negative</td>\n",
       "      <td>0</td>\n",
       "      <td>{'neg': 0.052, 'neu': 0.808, 'pos': 0.14, 'com...</td>\n",
       "    </tr>\n",
       "    <tr>\n",
       "      <th>12447</th>\n",
       "      <td>Jane Austen would definitely approve of this o...</td>\n",
       "      <td>positive</td>\n",
       "      <td>1</td>\n",
       "      <td>{'neg': 0.114, 'neu': 0.681, 'pos': 0.205, 'co...</td>\n",
       "    </tr>\n",
       "    <tr>\n",
       "      <th>39489</th>\n",
       "      <td>Expectations were somewhat high for me when I ...</td>\n",
       "      <td>negative</td>\n",
       "      <td>0</td>\n",
       "      <td>{'neg': 0.088, 'neu': 0.824, 'pos': 0.087, 'co...</td>\n",
       "    </tr>\n",
       "    <tr>\n",
       "      <th>...</th>\n",
       "      <td>...</td>\n",
       "      <td>...</td>\n",
       "      <td>...</td>\n",
       "      <td>...</td>\n",
       "    </tr>\n",
       "    <tr>\n",
       "      <th>15168</th>\n",
       "      <td>\"Landscape after a battle\" opens with escaping...</td>\n",
       "      <td>positive</td>\n",
       "      <td>1</td>\n",
       "      <td>{'neg': 0.148, 'neu': 0.679, 'pos': 0.173, 'co...</td>\n",
       "    </tr>\n",
       "    <tr>\n",
       "      <th>49241</th>\n",
       "      <td>Jake Speed (1986) was an amusing parody of Ind...</td>\n",
       "      <td>positive</td>\n",
       "      <td>1</td>\n",
       "      <td>{'neg': 0.083, 'neu': 0.737, 'pos': 0.18, 'com...</td>\n",
       "    </tr>\n",
       "    <tr>\n",
       "      <th>39317</th>\n",
       "      <td>PLAN B has the appearance of a quickly made, u...</td>\n",
       "      <td>negative</td>\n",
       "      <td>0</td>\n",
       "      <td>{'neg': 0.094, 'neu': 0.831, 'pos': 0.075, 'co...</td>\n",
       "    </tr>\n",
       "    <tr>\n",
       "      <th>42191</th>\n",
       "      <td>One of the perks of my job is that when things...</td>\n",
       "      <td>positive</td>\n",
       "      <td>1</td>\n",
       "      <td>{'neg': 0.071, 'neu': 0.783, 'pos': 0.146, 'co...</td>\n",
       "    </tr>\n",
       "    <tr>\n",
       "      <th>15109</th>\n",
       "      <td>Once you can get past the film's title, \"Pecke...</td>\n",
       "      <td>positive</td>\n",
       "      <td>1</td>\n",
       "      <td>{'neg': 0.084, 'neu': 0.716, 'pos': 0.2, 'comp...</td>\n",
       "    </tr>\n",
       "  </tbody>\n",
       "</table>\n",
       "<p>15000 rows × 4 columns</p>\n",
       "</div>"
      ],
      "text/plain": [
       "                                                  review sentiment  \\\n",
       "33553  I really liked this Summerslam due to the look...  positive   \n",
       "9427   Not many television shows appeal to quite as m...  positive   \n",
       "199    The film quickly gets to a major chase scene w...  negative   \n",
       "12447  Jane Austen would definitely approve of this o...  positive   \n",
       "39489  Expectations were somewhat high for me when I ...  negative   \n",
       "...                                                  ...       ...   \n",
       "15168  \"Landscape after a battle\" opens with escaping...  positive   \n",
       "49241  Jake Speed (1986) was an amusing parody of Ind...  positive   \n",
       "39317  PLAN B has the appearance of a quickly made, u...  negative   \n",
       "42191  One of the perks of my job is that when things...  positive   \n",
       "15109  Once you can get past the film's title, \"Pecke...  positive   \n",
       "\n",
       "       sentiment_number                                              score  \n",
       "33553                 1  {'neg': 0.103, 'neu': 0.775, 'pos': 0.122, 'co...  \n",
       "9427                  1  {'neg': 0.023, 'neu': 0.865, 'pos': 0.112, 'co...  \n",
       "199                   0  {'neg': 0.052, 'neu': 0.808, 'pos': 0.14, 'com...  \n",
       "12447                 1  {'neg': 0.114, 'neu': 0.681, 'pos': 0.205, 'co...  \n",
       "39489                 0  {'neg': 0.088, 'neu': 0.824, 'pos': 0.087, 'co...  \n",
       "...                 ...                                                ...  \n",
       "15168                 1  {'neg': 0.148, 'neu': 0.679, 'pos': 0.173, 'co...  \n",
       "49241                 1  {'neg': 0.083, 'neu': 0.737, 'pos': 0.18, 'com...  \n",
       "39317                 0  {'neg': 0.094, 'neu': 0.831, 'pos': 0.075, 'co...  \n",
       "42191                 1  {'neg': 0.071, 'neu': 0.783, 'pos': 0.146, 'co...  \n",
       "15109                 1  {'neg': 0.084, 'neu': 0.716, 'pos': 0.2, 'comp...  \n",
       "\n",
       "[15000 rows x 4 columns]"
      ]
     },
     "execution_count": 61,
     "metadata": {},
     "output_type": "execute_result"
    }
   ],
   "source": [
    "test_df"
   ]
  },
  {
   "cell_type": "code",
   "execution_count": 62,
   "metadata": {},
   "outputs": [],
   "source": [
    "test_df['compound']=test_df['score'].apply(lambda d:d['compound'])\n",
    "test_df['compound_score']=test_df['compound'].apply(lambda score:1 if score>=0 else 0)"
   ]
  },
  {
   "cell_type": "code",
   "execution_count": 63,
   "metadata": {},
   "outputs": [
    {
     "data": {
      "text/html": [
       "<div>\n",
       "<style scoped>\n",
       "    .dataframe tbody tr th:only-of-type {\n",
       "        vertical-align: middle;\n",
       "    }\n",
       "\n",
       "    .dataframe tbody tr th {\n",
       "        vertical-align: top;\n",
       "    }\n",
       "\n",
       "    .dataframe thead th {\n",
       "        text-align: right;\n",
       "    }\n",
       "</style>\n",
       "<table border=\"1\" class=\"dataframe\">\n",
       "  <thead>\n",
       "    <tr style=\"text-align: right;\">\n",
       "      <th></th>\n",
       "      <th>review</th>\n",
       "      <th>sentiment</th>\n",
       "      <th>sentiment_number</th>\n",
       "      <th>score</th>\n",
       "      <th>compound</th>\n",
       "      <th>compound_score</th>\n",
       "    </tr>\n",
       "  </thead>\n",
       "  <tbody>\n",
       "    <tr>\n",
       "      <th>33553</th>\n",
       "      <td>I really liked this Summerslam due to the look...</td>\n",
       "      <td>positive</td>\n",
       "      <td>1</td>\n",
       "      <td>{'neg': 0.103, 'neu': 0.775, 'pos': 0.122, 'co...</td>\n",
       "      <td>0.0891</td>\n",
       "      <td>1</td>\n",
       "    </tr>\n",
       "    <tr>\n",
       "      <th>9427</th>\n",
       "      <td>Not many television shows appeal to quite as m...</td>\n",
       "      <td>positive</td>\n",
       "      <td>1</td>\n",
       "      <td>{'neg': 0.023, 'neu': 0.865, 'pos': 0.112, 'co...</td>\n",
       "      <td>0.9848</td>\n",
       "      <td>1</td>\n",
       "    </tr>\n",
       "    <tr>\n",
       "      <th>199</th>\n",
       "      <td>The film quickly gets to a major chase scene w...</td>\n",
       "      <td>negative</td>\n",
       "      <td>0</td>\n",
       "      <td>{'neg': 0.052, 'neu': 0.808, 'pos': 0.14, 'com...</td>\n",
       "      <td>0.9245</td>\n",
       "      <td>1</td>\n",
       "    </tr>\n",
       "    <tr>\n",
       "      <th>12447</th>\n",
       "      <td>Jane Austen would definitely approve of this o...</td>\n",
       "      <td>positive</td>\n",
       "      <td>1</td>\n",
       "      <td>{'neg': 0.114, 'neu': 0.681, 'pos': 0.205, 'co...</td>\n",
       "      <td>0.8873</td>\n",
       "      <td>1</td>\n",
       "    </tr>\n",
       "    <tr>\n",
       "      <th>39489</th>\n",
       "      <td>Expectations were somewhat high for me when I ...</td>\n",
       "      <td>negative</td>\n",
       "      <td>0</td>\n",
       "      <td>{'neg': 0.088, 'neu': 0.824, 'pos': 0.087, 'co...</td>\n",
       "      <td>0.2058</td>\n",
       "      <td>1</td>\n",
       "    </tr>\n",
       "    <tr>\n",
       "      <th>...</th>\n",
       "      <td>...</td>\n",
       "      <td>...</td>\n",
       "      <td>...</td>\n",
       "      <td>...</td>\n",
       "      <td>...</td>\n",
       "      <td>...</td>\n",
       "    </tr>\n",
       "    <tr>\n",
       "      <th>15168</th>\n",
       "      <td>\"Landscape after a battle\" opens with escaping...</td>\n",
       "      <td>positive</td>\n",
       "      <td>1</td>\n",
       "      <td>{'neg': 0.148, 'neu': 0.679, 'pos': 0.173, 'co...</td>\n",
       "      <td>0.9761</td>\n",
       "      <td>1</td>\n",
       "    </tr>\n",
       "    <tr>\n",
       "      <th>49241</th>\n",
       "      <td>Jake Speed (1986) was an amusing parody of Ind...</td>\n",
       "      <td>positive</td>\n",
       "      <td>1</td>\n",
       "      <td>{'neg': 0.083, 'neu': 0.737, 'pos': 0.18, 'com...</td>\n",
       "      <td>0.9041</td>\n",
       "      <td>1</td>\n",
       "    </tr>\n",
       "    <tr>\n",
       "      <th>39317</th>\n",
       "      <td>PLAN B has the appearance of a quickly made, u...</td>\n",
       "      <td>negative</td>\n",
       "      <td>0</td>\n",
       "      <td>{'neg': 0.094, 'neu': 0.831, 'pos': 0.075, 'co...</td>\n",
       "      <td>-0.7551</td>\n",
       "      <td>0</td>\n",
       "    </tr>\n",
       "    <tr>\n",
       "      <th>42191</th>\n",
       "      <td>One of the perks of my job is that when things...</td>\n",
       "      <td>positive</td>\n",
       "      <td>1</td>\n",
       "      <td>{'neg': 0.071, 'neu': 0.783, 'pos': 0.146, 'co...</td>\n",
       "      <td>0.9156</td>\n",
       "      <td>1</td>\n",
       "    </tr>\n",
       "    <tr>\n",
       "      <th>15109</th>\n",
       "      <td>Once you can get past the film's title, \"Pecke...</td>\n",
       "      <td>positive</td>\n",
       "      <td>1</td>\n",
       "      <td>{'neg': 0.084, 'neu': 0.716, 'pos': 0.2, 'comp...</td>\n",
       "      <td>0.8806</td>\n",
       "      <td>1</td>\n",
       "    </tr>\n",
       "  </tbody>\n",
       "</table>\n",
       "<p>15000 rows × 6 columns</p>\n",
       "</div>"
      ],
      "text/plain": [
       "                                                  review sentiment  \\\n",
       "33553  I really liked this Summerslam due to the look...  positive   \n",
       "9427   Not many television shows appeal to quite as m...  positive   \n",
       "199    The film quickly gets to a major chase scene w...  negative   \n",
       "12447  Jane Austen would definitely approve of this o...  positive   \n",
       "39489  Expectations were somewhat high for me when I ...  negative   \n",
       "...                                                  ...       ...   \n",
       "15168  \"Landscape after a battle\" opens with escaping...  positive   \n",
       "49241  Jake Speed (1986) was an amusing parody of Ind...  positive   \n",
       "39317  PLAN B has the appearance of a quickly made, u...  negative   \n",
       "42191  One of the perks of my job is that when things...  positive   \n",
       "15109  Once you can get past the film's title, \"Pecke...  positive   \n",
       "\n",
       "       sentiment_number                                              score  \\\n",
       "33553                 1  {'neg': 0.103, 'neu': 0.775, 'pos': 0.122, 'co...   \n",
       "9427                  1  {'neg': 0.023, 'neu': 0.865, 'pos': 0.112, 'co...   \n",
       "199                   0  {'neg': 0.052, 'neu': 0.808, 'pos': 0.14, 'com...   \n",
       "12447                 1  {'neg': 0.114, 'neu': 0.681, 'pos': 0.205, 'co...   \n",
       "39489                 0  {'neg': 0.088, 'neu': 0.824, 'pos': 0.087, 'co...   \n",
       "...                 ...                                                ...   \n",
       "15168                 1  {'neg': 0.148, 'neu': 0.679, 'pos': 0.173, 'co...   \n",
       "49241                 1  {'neg': 0.083, 'neu': 0.737, 'pos': 0.18, 'com...   \n",
       "39317                 0  {'neg': 0.094, 'neu': 0.831, 'pos': 0.075, 'co...   \n",
       "42191                 1  {'neg': 0.071, 'neu': 0.783, 'pos': 0.146, 'co...   \n",
       "15109                 1  {'neg': 0.084, 'neu': 0.716, 'pos': 0.2, 'comp...   \n",
       "\n",
       "       compound  compound_score  \n",
       "33553    0.0891               1  \n",
       "9427     0.9848               1  \n",
       "199      0.9245               1  \n",
       "12447    0.8873               1  \n",
       "39489    0.2058               1  \n",
       "...         ...             ...  \n",
       "15168    0.9761               1  \n",
       "49241    0.9041               1  \n",
       "39317   -0.7551               0  \n",
       "42191    0.9156               1  \n",
       "15109    0.8806               1  \n",
       "\n",
       "[15000 rows x 6 columns]"
      ]
     },
     "execution_count": 63,
     "metadata": {},
     "output_type": "execute_result"
    }
   ],
   "source": [
    "test_df"
   ]
  },
  {
   "cell_type": "code",
   "execution_count": 64,
   "metadata": {},
   "outputs": [],
   "source": [
    "from sklearn.metrics import accuracy_score,classification_report,confusion_matrix"
   ]
  },
  {
   "cell_type": "code",
   "execution_count": 65,
   "metadata": {},
   "outputs": [
    {
     "name": "stdout",
     "output_type": "stream",
     "text": [
      "              precision    recall  f1-score   support\n",
      "\n",
      "           0       0.78      0.54      0.64      7411\n",
      "           1       0.65      0.85      0.74      7589\n",
      "\n",
      "    accuracy                           0.70     15000\n",
      "   macro avg       0.72      0.70      0.69     15000\n",
      "weighted avg       0.72      0.70      0.69     15000\n",
      "\n"
     ]
    }
   ],
   "source": [
    "print(classification_report(test_df['sentiment_number'],test_df['compound_score']))"
   ]
  },
  {
   "cell_type": "code",
   "execution_count": null,
   "metadata": {},
   "outputs": [],
   "source": [
    "vd=SentimentIntensityAnalyzer()\n",
    "test_df.iloc[0]['review']\n",
    "vd.polarity_scores(test_df.iloc[0]['review'])"
   ]
  },
  {
   "cell_type": "code",
   "execution_count": 68,
   "metadata": {},
   "outputs": [
    {
     "name": "stdout",
     "output_type": "stream",
     "text": [
      "Polarity: -0.003968253968253997\n"
     ]
    }
   ],
   "source": [
    "blob = TextBlob(test_df.iloc[0]['review'])\n",
    "polarity = blob.sentiment.polarity\n",
    "\n",
    "print(\"Polarity:\", polarity)"
   ]
  },
  {
   "cell_type": "code",
   "execution_count": 69,
   "metadata": {},
   "outputs": [
    {
     "name": "stdout",
     "output_type": "stream",
     "text": [
      "                                                  review sentiment  \\\n",
      "33553  I really liked this Summerslam due to the look...  positive   \n",
      "9427   Not many television shows appeal to quite as m...  positive   \n",
      "199    The film quickly gets to a major chase scene w...  negative   \n",
      "12447  Jane Austen would definitely approve of this o...  positive   \n",
      "39489  Expectations were somewhat high for me when I ...  negative   \n",
      "...                                                  ...       ...   \n",
      "15168  \"Landscape after a battle\" opens with escaping...  positive   \n",
      "49241  Jake Speed (1986) was an amusing parody of Ind...  positive   \n",
      "39317  PLAN B has the appearance of a quickly made, u...  negative   \n",
      "42191  One of the perks of my job is that when things...  positive   \n",
      "15109  Once you can get past the film's title, \"Pecke...  positive   \n",
      "\n",
      "       sentiment_number                                              score  \\\n",
      "33553                 1  {'neg': 0.103, 'neu': 0.775, 'pos': 0.122, 'co...   \n",
      "9427                  1  {'neg': 0.023, 'neu': 0.865, 'pos': 0.112, 'co...   \n",
      "199                   0  {'neg': 0.052, 'neu': 0.808, 'pos': 0.14, 'com...   \n",
      "12447                 1  {'neg': 0.114, 'neu': 0.681, 'pos': 0.205, 'co...   \n",
      "39489                 0  {'neg': 0.088, 'neu': 0.824, 'pos': 0.087, 'co...   \n",
      "...                 ...                                                ...   \n",
      "15168                 1  {'neg': 0.148, 'neu': 0.679, 'pos': 0.173, 'co...   \n",
      "49241                 1  {'neg': 0.083, 'neu': 0.737, 'pos': 0.18, 'com...   \n",
      "39317                 0  {'neg': 0.094, 'neu': 0.831, 'pos': 0.075, 'co...   \n",
      "42191                 1  {'neg': 0.071, 'neu': 0.783, 'pos': 0.146, 'co...   \n",
      "15109                 1  {'neg': 0.084, 'neu': 0.716, 'pos': 0.2, 'comp...   \n",
      "\n",
      "       compound  compound_score  tb_score  tb_label  \n",
      "33553    0.0891               1 -0.003968         0  \n",
      "9427     0.9848               1  0.149246         1  \n",
      "199      0.9245               1  0.204167         1  \n",
      "12447    0.8873               1  0.376923         1  \n",
      "39489    0.2058               1  0.065994         1  \n",
      "...         ...             ...       ...       ...  \n",
      "15168    0.9761               1  0.121772         1  \n",
      "49241    0.9041               1 -0.029861         0  \n",
      "39317   -0.7551               0  0.024779         1  \n",
      "42191    0.9156               1  0.209423         1  \n",
      "15109    0.8806               1  0.184103         1  \n",
      "\n",
      "[15000 rows x 8 columns]\n"
     ]
    }
   ],
   "source": [
    "test_df['tb_score'] = test_df['review'].apply(lambda text: TextBlob(text).sentiment.polarity)\n",
    "\n",
    "def convert_to_compound_score(compound):\n",
    "    return 1 if compound >= 0 else 0\n",
    "\n",
    "test_df['tb_label'] = test_df['tb_score'].apply(convert_to_compound_score)\n",
    "\n",
    "print(test_df)"
   ]
  },
  {
   "cell_type": "code",
   "execution_count": 70,
   "metadata": {},
   "outputs": [
    {
     "name": "stdout",
     "output_type": "stream",
     "text": [
      "              precision    recall  f1-score   support\n",
      "\n",
      "           0       0.89      0.42      0.58      7411\n",
      "           1       0.63      0.95      0.76      7589\n",
      "\n",
      "    accuracy                           0.69     15000\n",
      "   macro avg       0.76      0.69      0.67     15000\n",
      "weighted avg       0.76      0.69      0.67     15000\n",
      "\n"
     ]
    }
   ],
   "source": [
    "print(classification_report(test_df['sentiment_number'],test_df['tb_label']))"
   ]
  },
  {
   "cell_type": "code",
   "execution_count": 6,
   "metadata": {},
   "outputs": [],
   "source": [
    "embedding = \"https://tfhub.dev/google/tf2-preview/gnews-swivel-20dim/1\""
   ]
  },
  {
   "cell_type": "code",
   "execution_count": 7,
   "metadata": {},
   "outputs": [],
   "source": [
    "hub_layer = hub.KerasLayer(embedding, input_shape=[], \n",
    "dtype=tf.string, trainable=True)"
   ]
  },
  {
   "cell_type": "code",
   "execution_count": 8,
   "metadata": {},
   "outputs": [],
   "source": [
    "model = tf.keras.Sequential()\n",
    "model.add(hub_layer)\n",
    "model.add(tf.keras.layers.Dense(16, activation='relu'))\n",
    "model.add(tf.keras.layers.Dense(1))"
   ]
  },
  {
   "cell_type": "code",
   "execution_count": 9,
   "metadata": {},
   "outputs": [
    {
     "name": "stdout",
     "output_type": "stream",
     "text": [
      "Model: \"sequential\"\n",
      "_________________________________________________________________\n",
      " Layer (type)                Output Shape              Param #   \n",
      "=================================================================\n",
      " keras_layer (KerasLayer)    (None, 20)                400020    \n",
      "                                                                 \n",
      " dense (Dense)               (None, 16)                336       \n",
      "                                                                 \n",
      " dense_1 (Dense)             (None, 1)                 17        \n",
      "                                                                 \n",
      "=================================================================\n",
      "Total params: 400373 (1.53 MB)\n",
      "Trainable params: 400373 (1.53 MB)\n",
      "Non-trainable params: 0 (0.00 Byte)\n",
      "_________________________________________________________________\n"
     ]
    }
   ],
   "source": [
    "model.summary()"
   ]
  },
  {
   "cell_type": "code",
   "execution_count": 10,
   "metadata": {},
   "outputs": [],
   "source": [
    "model.compile(optimizer='adam', \n",
    "loss=tf.keras.losses.BinaryCrossentropy(from_logits=True), \n",
    "metrics=['accuracy'])"
   ]
  },
  {
   "cell_type": "code",
   "execution_count": 11,
   "metadata": {},
   "outputs": [],
   "source": [
    "train_dataset = tf.data.Dataset.from_tensor_slices((train_df['review'], train_df['sentiment_number']))\n",
    "test_dataset = tf.data.Dataset.from_tensor_slices((test_df['review'], test_df['sentiment_number']))\n"
   ]
  },
  {
   "cell_type": "code",
   "execution_count": 12,
   "metadata": {},
   "outputs": [],
   "source": [
    "early_stopping = EarlyStopping(monitor='val_loss', patience=5, restore_best_weights=True)"
   ]
  },
  {
   "cell_type": "code",
   "execution_count": 13,
   "metadata": {},
   "outputs": [
    {
     "name": "stdout",
     "output_type": "stream",
     "text": [
      "Epoch 1/100\n"
     ]
    },
    {
     "name": "stdout",
     "output_type": "stream",
     "text": [
      "69/69 [==============================] - 2s 21ms/step - loss: 0.6868 - accuracy: 0.5749 - val_loss: 0.6050 - val_accuracy: 0.6379\n",
      "Epoch 2/100\n",
      "69/69 [==============================] - 1s 21ms/step - loss: 0.5618 - accuracy: 0.6829 - val_loss: 0.5177 - val_accuracy: 0.7299\n",
      "Epoch 3/100\n",
      "69/69 [==============================] - 1s 20ms/step - loss: 0.4746 - accuracy: 0.7602 - val_loss: 0.4382 - val_accuracy: 0.7813\n",
      "Epoch 4/100\n",
      "69/69 [==============================] - 1s 20ms/step - loss: 0.3991 - accuracy: 0.8127 - val_loss: 0.3779 - val_accuracy: 0.8278\n",
      "Epoch 5/100\n",
      "69/69 [==============================] - 1s 20ms/step - loss: 0.3394 - accuracy: 0.8480 - val_loss: 0.3338 - val_accuracy: 0.8491\n",
      "Epoch 6/100\n",
      "69/69 [==============================] - 1s 21ms/step - loss: 0.2951 - accuracy: 0.8721 - val_loss: 0.3038 - val_accuracy: 0.8651\n",
      "Epoch 7/100\n",
      "69/69 [==============================] - 1s 21ms/step - loss: 0.2614 - accuracy: 0.8893 - val_loss: 0.2849 - val_accuracy: 0.8717\n",
      "Epoch 8/100\n",
      "69/69 [==============================] - 1s 20ms/step - loss: 0.2354 - accuracy: 0.9033 - val_loss: 0.2742 - val_accuracy: 0.8749\n",
      "Epoch 9/100\n",
      "69/69 [==============================] - 1s 20ms/step - loss: 0.2144 - accuracy: 0.9133 - val_loss: 0.2638 - val_accuracy: 0.8892\n",
      "Epoch 10/100\n",
      "69/69 [==============================] - 1s 21ms/step - loss: 0.1973 - accuracy: 0.9217 - val_loss: 0.2610 - val_accuracy: 0.8914\n",
      "Epoch 11/100\n",
      "69/69 [==============================] - 1s 20ms/step - loss: 0.1834 - accuracy: 0.9280 - val_loss: 0.2584 - val_accuracy: 0.8880\n",
      "Epoch 12/100\n",
      "69/69 [==============================] - 1s 20ms/step - loss: 0.1713 - accuracy: 0.9330 - val_loss: 0.2582 - val_accuracy: 0.8911\n",
      "Epoch 13/100\n",
      "69/69 [==============================] - 1s 20ms/step - loss: 0.1616 - accuracy: 0.9379 - val_loss: 0.2622 - val_accuracy: 0.8934\n",
      "Epoch 14/100\n",
      "69/69 [==============================] - 1s 20ms/step - loss: 0.1512 - accuracy: 0.9434 - val_loss: 0.2638 - val_accuracy: 0.8860\n",
      "Epoch 15/100\n",
      "69/69 [==============================] - 1s 20ms/step - loss: 0.1422 - accuracy: 0.9473 - val_loss: 0.2677 - val_accuracy: 0.8928\n",
      "Epoch 16/100\n",
      "69/69 [==============================] - 1s 20ms/step - loss: 0.1343 - accuracy: 0.9500 - val_loss: 0.2726 - val_accuracy: 0.8917\n",
      "Epoch 17/100\n",
      "69/69 [==============================] - 1s 21ms/step - loss: 0.1275 - accuracy: 0.9533 - val_loss: 0.2779 - val_accuracy: 0.8901\n"
     ]
    }
   ],
   "source": [
    "history = model.fit(\n",
    "\n",
    "    train_dataset.shuffle(10000).batch(512),\n",
    "    epochs=100,\n",
    "    validation_data=test_dataset.batch(512),\n",
    "    verbose=1,\n",
    "    callbacks=[early_stopping]\n",
    ")"
   ]
  },
  {
   "cell_type": "code",
   "execution_count": null,
   "metadata": {},
   "outputs": [],
   "source": []
  }
 ],
 "metadata": {
  "kernelspec": {
   "display_name": "env",
   "language": "python",
   "name": "python3"
  },
  "language_info": {
   "codemirror_mode": {
    "name": "ipython",
    "version": 3
   },
   "file_extension": ".py",
   "mimetype": "text/x-python",
   "name": "python",
   "nbconvert_exporter": "python",
   "pygments_lexer": "ipython3",
   "version": "3.11.6"
  }
 },
 "nbformat": 4,
 "nbformat_minor": 2
}
